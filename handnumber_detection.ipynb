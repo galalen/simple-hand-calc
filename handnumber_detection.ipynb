{
 "cells": [
  {
   "cell_type": "code",
   "execution_count": 4,
   "metadata": {},
   "outputs": [],
   "source": [
    "from keras.preprocessing import image\n",
    "from keras import applications\n",
    "from keras.models import Model\n",
    "from keras.layers import Input\n",
    "from keras.layers import Dense, GlobalAveragePooling2D, Dropout\n",
    "import numpy as np\n",
    "import matplotlib.pyplot as plt\n",
    "%matplotlib inline"
   ]
  },
  {
   "cell_type": "code",
   "execution_count": 2,
   "metadata": {},
   "outputs": [],
   "source": [
    "classes = [1, 2, 3, 4, 5]"
   ]
  },
  {
   "cell_type": "code",
   "execution_count": 3,
   "metadata": {},
   "outputs": [
    {
     "name": "stderr",
     "output_type": "stream",
     "text": [
      "/home/mgalalen/.local/lib/python3.6/site-packages/keras_applications/mobilenet_v2.py:295: UserWarning: MobileNet shape is undefined. Weights for input shape(224, 224) will be loaded.\n",
      "  warnings.warn('MobileNet shape is undefined.'\n"
     ]
    }
   ],
   "source": [
    "base_model = applications.MobileNetV2(weights='imagenet', include_top=False,)"
   ]
  },
  {
   "cell_type": "code",
   "execution_count": 12,
   "metadata": {},
   "outputs": [],
   "source": [
    "x = base_model.output\n",
    "x = GlobalAveragePooling2D()(x)\n",
    "x = Dense(1024, activation='relu')(x)\n",
    "\n",
    "predictions = Dense(5, activation='softmax')(x)"
   ]
  },
  {
   "cell_type": "code",
   "execution_count": 13,
   "metadata": {},
   "outputs": [],
   "source": [
    "model = Model(inputs=base_model.input, outputs=predictions)"
   ]
  },
  {
   "cell_type": "code",
   "execution_count": 14,
   "metadata": {},
   "outputs": [],
   "source": [
    "for layer in base_model.layers:\n",
    "    layer.trainable = False"
   ]
  },
  {
   "cell_type": "code",
   "execution_count": 15,
   "metadata": {},
   "outputs": [
    {
     "name": "stdout",
     "output_type": "stream",
     "text": [
      "Found 550 images belonging to 5 classes.\n"
     ]
    }
   ],
   "source": [
    "traingen = image.ImageDataGenerator(rescale=1/255, \n",
    "                                    horizontal_flip=True, \n",
    "                                    vertical_flip=True,\n",
    "                                    rotation_range=180,\n",
    "                                   zoom_range=[1, 0.5],)\n",
    "train_data = traingen.flow_from_directory('datasets/HandSet/train/',target_size=(224,224), batch_size=32)"
   ]
  },
  {
   "cell_type": "code",
   "execution_count": 16,
   "metadata": {},
   "outputs": [
    {
     "name": "stdout",
     "output_type": "stream",
     "text": [
      "Found 180 images belonging to 5 classes.\n"
     ]
    }
   ],
   "source": [
    "testgen = image.ImageDataGenerator(rescale=1/255)\n",
    "test_data = traingen.flow_from_directory('datasets/HandSet/test/',target_size=(224,224), batch_size=16)"
   ]
  },
  {
   "cell_type": "code",
   "execution_count": 17,
   "metadata": {},
   "outputs": [
    {
     "name": "stdout",
     "output_type": "stream",
     "text": [
      "Epoch 1/10\n",
      "15/15 [==============================] - 72s 5s/step - loss: 5.4467 - acc: 0.2396 - val_loss: 1.5511 - val_acc: 0.3625\n",
      "Epoch 2/10\n",
      "15/15 [==============================] - 65s 4s/step - loss: 1.5269 - acc: 0.3787 - val_loss: 1.7290 - val_acc: 0.3375\n",
      "Epoch 3/10\n",
      "15/15 [==============================] - 70s 5s/step - loss: 1.5478 - acc: 0.4099 - val_loss: 1.2412 - val_acc: 0.5000\n",
      "Epoch 4/10\n",
      "15/15 [==============================] - 71s 5s/step - loss: 1.4091 - acc: 0.4584 - val_loss: 1.5909 - val_acc: 0.3500\n",
      "Epoch 5/10\n",
      "15/15 [==============================] - 71s 5s/step - loss: 1.3498 - acc: 0.4726 - val_loss: 1.2161 - val_acc: 0.5147\n",
      "Epoch 6/10\n",
      "15/15 [==============================] - 75s 5s/step - loss: 1.2632 - acc: 0.4832 - val_loss: 2.5321 - val_acc: 0.2750\n",
      "Epoch 7/10\n",
      "15/15 [==============================] - 94s 6s/step - loss: 1.1728 - acc: 0.5167 - val_loss: 1.5773 - val_acc: 0.3750\n",
      "Epoch 8/10\n",
      "15/15 [==============================] - 91s 6s/step - loss: 1.2774 - acc: 0.4955 - val_loss: 2.0216 - val_acc: 0.2941\n",
      "Epoch 9/10\n",
      "15/15 [==============================] - 98s 7s/step - loss: 1.0946 - acc: 0.5502 - val_loss: 1.9410 - val_acc: 0.3250\n",
      "Epoch 10/10\n",
      "15/15 [==============================] - 91s 6s/step - loss: 1.1535 - acc: 0.5502 - val_loss: 1.3650 - val_acc: 0.5294\n"
     ]
    }
   ],
   "source": [
    "# compile the model (should be done *after* setting layers to non-trainable)\n",
    "model.compile(optimizer='rmsprop', loss='categorical_crossentropy', metrics=['accuracy'])\n",
    "\n",
    "# train the model on the new data for a few epochs\n",
    "H = model.fit_generator(train_data, epochs=10, \n",
    "                        steps_per_epoch=int(500//32), \n",
    "                        validation_data=test_data, \n",
    "                        validation_steps=int(180//16),)\n"
   ]
  },
  {
   "cell_type": "code",
   "execution_count": 18,
   "metadata": {},
   "outputs": [
    {
     "name": "stdout",
     "output_type": "stream",
     "text": [
      "155\n",
      "0 input_1\n",
      "1 Conv1_pad\n",
      "2 Conv1\n",
      "3 bn_Conv1\n",
      "4 Conv1_relu\n",
      "5 expanded_conv_depthwise\n",
      "6 expanded_conv_depthwise_BN\n",
      "7 expanded_conv_depthwise_relu\n",
      "8 expanded_conv_project\n",
      "9 expanded_conv_project_BN\n",
      "10 block_1_expand\n",
      "11 block_1_expand_BN\n",
      "12 block_1_expand_relu\n",
      "13 block_1_pad\n",
      "14 block_1_depthwise\n",
      "15 block_1_depthwise_BN\n",
      "16 block_1_depthwise_relu\n",
      "17 block_1_project\n",
      "18 block_1_project_BN\n",
      "19 block_2_expand\n",
      "20 block_2_expand_BN\n",
      "21 block_2_expand_relu\n",
      "22 block_2_depthwise\n",
      "23 block_2_depthwise_BN\n",
      "24 block_2_depthwise_relu\n",
      "25 block_2_project\n",
      "26 block_2_project_BN\n",
      "27 block_2_add\n",
      "28 block_3_expand\n",
      "29 block_3_expand_BN\n",
      "30 block_3_expand_relu\n",
      "31 block_3_pad\n",
      "32 block_3_depthwise\n",
      "33 block_3_depthwise_BN\n",
      "34 block_3_depthwise_relu\n",
      "35 block_3_project\n",
      "36 block_3_project_BN\n",
      "37 block_4_expand\n",
      "38 block_4_expand_BN\n",
      "39 block_4_expand_relu\n",
      "40 block_4_depthwise\n",
      "41 block_4_depthwise_BN\n",
      "42 block_4_depthwise_relu\n",
      "43 block_4_project\n",
      "44 block_4_project_BN\n",
      "45 block_4_add\n",
      "46 block_5_expand\n",
      "47 block_5_expand_BN\n",
      "48 block_5_expand_relu\n",
      "49 block_5_depthwise\n",
      "50 block_5_depthwise_BN\n",
      "51 block_5_depthwise_relu\n",
      "52 block_5_project\n",
      "53 block_5_project_BN\n",
      "54 block_5_add\n",
      "55 block_6_expand\n",
      "56 block_6_expand_BN\n",
      "57 block_6_expand_relu\n",
      "58 block_6_pad\n",
      "59 block_6_depthwise\n",
      "60 block_6_depthwise_BN\n",
      "61 block_6_depthwise_relu\n",
      "62 block_6_project\n",
      "63 block_6_project_BN\n",
      "64 block_7_expand\n",
      "65 block_7_expand_BN\n",
      "66 block_7_expand_relu\n",
      "67 block_7_depthwise\n",
      "68 block_7_depthwise_BN\n",
      "69 block_7_depthwise_relu\n",
      "70 block_7_project\n",
      "71 block_7_project_BN\n",
      "72 block_7_add\n",
      "73 block_8_expand\n",
      "74 block_8_expand_BN\n",
      "75 block_8_expand_relu\n",
      "76 block_8_depthwise\n",
      "77 block_8_depthwise_BN\n",
      "78 block_8_depthwise_relu\n",
      "79 block_8_project\n",
      "80 block_8_project_BN\n",
      "81 block_8_add\n",
      "82 block_9_expand\n",
      "83 block_9_expand_BN\n",
      "84 block_9_expand_relu\n",
      "85 block_9_depthwise\n",
      "86 block_9_depthwise_BN\n",
      "87 block_9_depthwise_relu\n",
      "88 block_9_project\n",
      "89 block_9_project_BN\n",
      "90 block_9_add\n",
      "91 block_10_expand\n",
      "92 block_10_expand_BN\n",
      "93 block_10_expand_relu\n",
      "94 block_10_depthwise\n",
      "95 block_10_depthwise_BN\n",
      "96 block_10_depthwise_relu\n",
      "97 block_10_project\n",
      "98 block_10_project_BN\n",
      "99 block_11_expand\n",
      "100 block_11_expand_BN\n",
      "101 block_11_expand_relu\n",
      "102 block_11_depthwise\n",
      "103 block_11_depthwise_BN\n",
      "104 block_11_depthwise_relu\n",
      "105 block_11_project\n",
      "106 block_11_project_BN\n",
      "107 block_11_add\n",
      "108 block_12_expand\n",
      "109 block_12_expand_BN\n",
      "110 block_12_expand_relu\n",
      "111 block_12_depthwise\n",
      "112 block_12_depthwise_BN\n",
      "113 block_12_depthwise_relu\n",
      "114 block_12_project\n",
      "115 block_12_project_BN\n",
      "116 block_12_add\n",
      "117 block_13_expand\n",
      "118 block_13_expand_BN\n",
      "119 block_13_expand_relu\n",
      "120 block_13_pad\n",
      "121 block_13_depthwise\n",
      "122 block_13_depthwise_BN\n",
      "123 block_13_depthwise_relu\n",
      "124 block_13_project\n",
      "125 block_13_project_BN\n",
      "126 block_14_expand\n",
      "127 block_14_expand_BN\n",
      "128 block_14_expand_relu\n",
      "129 block_14_depthwise\n",
      "130 block_14_depthwise_BN\n",
      "131 block_14_depthwise_relu\n",
      "132 block_14_project\n",
      "133 block_14_project_BN\n",
      "134 block_14_add\n",
      "135 block_15_expand\n",
      "136 block_15_expand_BN\n",
      "137 block_15_expand_relu\n",
      "138 block_15_depthwise\n",
      "139 block_15_depthwise_BN\n",
      "140 block_15_depthwise_relu\n",
      "141 block_15_project\n",
      "142 block_15_project_BN\n",
      "143 block_15_add\n",
      "144 block_16_expand\n",
      "145 block_16_expand_BN\n",
      "146 block_16_expand_relu\n",
      "147 block_16_depthwise\n",
      "148 block_16_depthwise_BN\n",
      "149 block_16_depthwise_relu\n",
      "150 block_16_project\n",
      "151 block_16_project_BN\n",
      "152 Conv_1\n",
      "153 Conv_1_bn\n",
      "154 out_relu\n"
     ]
    }
   ],
   "source": [
    "print(len(base_model.layers))\n",
    "# we should freeze:\n",
    "for i, layer in enumerate(base_model.layers):\n",
    "    print(i, layer.name)\n",
    "\n"
   ]
  },
  {
   "cell_type": "code",
   "execution_count": 19,
   "metadata": {},
   "outputs": [],
   "source": [
    "for layer in model.layers[:80]:\n",
    "    layer.trainable = False\n",
    "for layer in model.layers[80:]:\n",
    "    layer.trainable = True\n"
   ]
  },
  {
   "cell_type": "code",
   "execution_count": 23,
   "metadata": {
    "scrolled": true
   },
   "outputs": [
    {
     "name": "stdout",
     "output_type": "stream",
     "text": [
      "Epoch 1/5\n",
      "15/15 [==============================] - 126s 8s/step - loss: 0.3753 - acc: 0.8641 - val_loss: 8.4395 - val_acc: 0.3088\n",
      "Epoch 2/5\n",
      "15/15 [==============================] - 121s 8s/step - loss: 0.3513 - acc: 0.8850 - val_loss: 5.4596 - val_acc: 0.4500\n",
      "Epoch 3/5\n",
      "15/15 [==============================] - 117s 8s/step - loss: 0.4055 - acc: 0.8598 - val_loss: 4.9521 - val_acc: 0.4265\n",
      "Epoch 4/5\n",
      "15/15 [==============================] - 124s 8s/step - loss: 0.4089 - acc: 0.8521 - val_loss: 4.3931 - val_acc: 0.5000\n",
      "Epoch 5/5\n",
      "15/15 [==============================] - 113s 8s/step - loss: 0.3717 - acc: 0.8763 - val_loss: 3.4553 - val_acc: 0.5441\n"
     ]
    }
   ],
   "source": [
    "from keras.optimizers import SGD\n",
    "model.compile(optimizer=SGD(lr=0.0001, momentum=0.9), loss='categorical_crossentropy', metrics=['accuracy'])\n",
    "# model.compile(optimizer='adam', loss='categorical_crossentropy', metrics=['accuracy'])\n",
    "\n",
    "# we train our model again (this time fine-tuning the top 2 inception blocks\n",
    "# alongside the top Dense layers\n",
    "HA = model.fit_generator(train_data, epochs=5, \n",
    "                    steps_per_epoch=int(500//32),\n",
    "                   validation_data=test_data,\n",
    "                    validation_steps=int(180//16),)"
   ]
  },
  {
   "cell_type": "code",
   "execution_count": 24,
   "metadata": {},
   "outputs": [
    {
     "ename": "SyntaxError",
     "evalue": "invalid syntax (<ipython-input-24-76bcbb12266a>, line 1)",
     "output_type": "error",
     "traceback": [
      "\u001b[0;36m  File \u001b[0;32m\"<ipython-input-24-76bcbb12266a>\"\u001b[0;36m, line \u001b[0;32m1\u001b[0m\n\u001b[0;31m    def preprocess(img)\u001b[0m\n\u001b[0m                       ^\u001b[0m\n\u001b[0;31mSyntaxError\u001b[0m\u001b[0;31m:\u001b[0m invalid syntax\n"
     ]
    }
   ],
   "source": [
    "def preprocess(img)\n",
    "    img = image.img_to_array(img)\n",
    "    img = np.expand_dims(img, axis=0)\n",
    "    return applications.mobilenetv2.preprocess_input(img)"
   ]
  },
  {
   "cell_type": "code",
   "execution_count": 72,
   "metadata": {},
   "outputs": [
    {
     "data": {
      "text/plain": [
       "<matplotlib.image.AxesImage at 0x7f60a0374320>"
      ]
     },
     "execution_count": 72,
     "metadata": {},
     "output_type": "execute_result"
    },
    {
     "data": {
      "image/png": "[encoded data removed]",
      "text/plain": [
       "<Figure size 432x288 with 1 Axes>"
      ]
     },
     "metadata": {
      "needs_background": "light"
     },
     "output_type": "display_data"
    }
   ],
   "source": [
    "img = image.load_img('datasets/data/test/1/thumb0009.jpg', target_size=(224, 224))\n",
    "plt.imshow(img)"
   ]
  },
  {
   "cell_type": "code",
   "execution_count": 73,
   "metadata": {},
   "outputs": [],
   "source": []
  },
  {
   "cell_type": "code",
   "execution_count": 74,
   "metadata": {},
   "outputs": [
    {
     "data": {
      "text/plain": [
       "array([[9.8704058e-01, 3.6409115e-03, 9.1143874e-03, 1.9389705e-04,\n",
       "        1.0287669e-05]], dtype=float32)"
      ]
     },
     "execution_count": 74,
     "metadata": {},
     "output_type": "execute_result"
    }
   ],
   "source": [
    "pred = model.predict(img); pred"
   ]
  },
  {
   "cell_type": "code",
   "execution_count": 75,
   "metadata": {},
   "outputs": [
    {
     "data": {
      "text/plain": [
       "1"
      ]
     },
     "execution_count": 75,
     "metadata": {},
     "output_type": "execute_result"
    }
   ],
   "source": [
    "classes[np.argmax(pred)]"
   ]
  },
  {
   "cell_type": "code",
   "execution_count": null,
   "metadata": {},
   "outputs": [],
   "source": [
    "model.save('newmodel.h5')"
   ]
  },
  {
   "cell_type": "code",
   "execution_count": null,
   "metadata": {},
   "outputs": [],
   "source": []
  }
 ],
 "metadata": {
  "kernelspec": {
   "display_name": "Python 3",
   "language": "python",
   "name": "python3"
  },
  "language_info": {
   "codemirror_mode": {
    "name": "ipython",
    "version": 3
   },
   "file_extension": ".py",
   "mimetype": "text/x-python",
   "name": "python",
   "nbconvert_exporter": "python",
   "pygments_lexer": "ipython3",
   "version": "3.6.5"
  }
 },
 "nbformat": 4,
 "nbformat_minor": 2
}
